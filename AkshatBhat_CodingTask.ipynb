{
  "nbformat": 4,
  "nbformat_minor": 0,
  "metadata": {
    "colab": {
      "name": "AkshatBhat_CodingTask.ipynb",
      "provenance": [],
      "collapsed_sections": [
        "joOR5yuO_XDV",
        "hs5Aiwk5BgC4",
        "j2cywxY_Dlim",
        "tvTfhSs1ObRJ",
        "IMP09KM23Y5H",
        "2MTJuMQvITS7"
      ]
    },
    "kernelspec": {
      "name": "python3",
      "display_name": "Python 3"
    },
    "language_info": {
      "name": "python"
    },
    "accelerator": "GPU"
  },
  "cells": [
    {
      "cell_type": "markdown",
      "source": [
        "## Name: Akshat Bhat"
      ],
      "metadata": {
        "id": "xu2StcRgccYU"
      }
    },
    {
      "cell_type": "markdown",
      "source": [
        "### Importing and Downloading Utilities & Libraries"
      ],
      "metadata": {
        "id": "joOR5yuO_XDV"
      }
    },
    {
      "cell_type": "code",
      "execution_count": null,
      "metadata": {
        "id": "m1KQOYsxzx7q"
      },
      "outputs": [],
      "source": [
        "# Importing standard data science related libraries and packages\n",
        "import numpy as np\n",
        "import pandas as pd\n",
        "import matplotlib.pyplot as plt\n",
        "import tensorflow as tf\n",
        "from tensorflow.keras.utils import to_categorical"
      ]
    },
    {
      "cell_type": "code",
      "source": [
        "# Installing helper utilities\n",
        "!git clone https://github.com/liady/ssp19ai_utils.git\n",
        "!git -C ssp19ai_utils pull\n",
        "import ssp19ai_utils.utils as utils\n",
        "import importlib\n",
        "importlib.reload(utils)"
      ],
      "metadata": {
        "colab": {
          "base_uri": "https://localhost:8080/"
        },
        "id": "BUYDXLua24-T",
        "outputId": "6f1ee484-cbcc-4caa-a457-61e216a73141"
      },
      "execution_count": null,
      "outputs": [
        {
          "output_type": "stream",
          "name": "stdout",
          "text": [
            "Cloning into 'ssp19ai_utils'...\n",
            "remote: Enumerating objects: 78, done.\u001b[K\n",
            "remote: Total 78 (delta 0), reused 0 (delta 0), pack-reused 78\u001b[K\n",
            "Unpacking objects: 100% (78/78), done.\n",
            "Already up to date.\n"
          ]
        },
        {
          "output_type": "execute_result",
          "data": {
            "text/plain": [
              "<module 'ssp19ai_utils.utils' from '/content/ssp19ai_utils/utils.py'>"
            ]
          },
          "metadata": {},
          "execution_count": 2
        }
      ]
    },
    {
      "cell_type": "code",
      "source": [
        "# Mounting Google Drive - for storing and loading models\n",
        "from google.colab import drive\n",
        "drive.mount('/content/drive')"
      ],
      "metadata": {
        "colab": {
          "base_uri": "https://localhost:8080/"
        },
        "id": "M_vODmIkrSjA",
        "outputId": "46f5392d-2b85-4503-d20e-23ae23b1ac59"
      },
      "execution_count": null,
      "outputs": [
        {
          "output_type": "stream",
          "name": "stdout",
          "text": [
            "Mounted at /content/drive\n"
          ]
        }
      ]
    },
    {
      "cell_type": "markdown",
      "source": [
        "### Importing Fashion MNIST Dataset"
      ],
      "metadata": {
        "id": "hs5Aiwk5BgC4"
      }
    },
    {
      "cell_type": "code",
      "source": [
        "(X_train,y_train),(X_test,y_test) = tf.keras.datasets.fashion_mnist.load_data() # Splitting into training and testing set images and labels"
      ],
      "metadata": {
        "id": "dya3rj7fbNBA",
        "colab": {
          "base_uri": "https://localhost:8080/"
        },
        "outputId": "5092f83c-09a7-4d56-8b19-de9567ee1a41"
      },
      "execution_count": null,
      "outputs": [
        {
          "output_type": "stream",
          "name": "stdout",
          "text": [
            "Downloading data from https://storage.googleapis.com/tensorflow/tf-keras-datasets/train-labels-idx1-ubyte.gz\n",
            "32768/29515 [=================================] - 0s 0us/step\n",
            "40960/29515 [=========================================] - 0s 0us/step\n",
            "Downloading data from https://storage.googleapis.com/tensorflow/tf-keras-datasets/train-images-idx3-ubyte.gz\n",
            "26427392/26421880 [==============================] - 0s 0us/step\n",
            "26435584/26421880 [==============================] - 0s 0us/step\n",
            "Downloading data from https://storage.googleapis.com/tensorflow/tf-keras-datasets/t10k-labels-idx1-ubyte.gz\n",
            "16384/5148 [===============================================================================================] - 0s 0us/step\n",
            "Downloading data from https://storage.googleapis.com/tensorflow/tf-keras-datasets/t10k-images-idx3-ubyte.gz\n",
            "4423680/4422102 [==============================] - 0s 0us/step\n",
            "4431872/4422102 [==============================] - 0s 0us/step\n"
          ]
        }
      ]
    },
    {
      "cell_type": "code",
      "source": [
        "(train_images, train_labels), (test_images, test_labels) = tf.keras.datasets.fashion_mnist.load_data()"
      ],
      "metadata": {
        "id": "ND0YF4fzHwCE"
      },
      "execution_count": null,
      "outputs": []
    },
    {
      "cell_type": "markdown",
      "source": [
        "**Fashion MNIST Dataset**: This is a dataset of 60,000 28 x 28 grayscale images of 10 fashion categories, along with a test set of 10,000 images with pixel values ranging from 0 to 255. Each label is an array of integers, ranging from 0 to 9.\n",
        "\n",
        "The classes are:\n",
        "\n",
        "Label -> Description\n",
        "\n",
        "0\t-> T-shirt/top\n",
        "\n",
        "1 -> Trouser\n",
        "\n",
        "2\t-> Pullover\n",
        "\n",
        "3\t-> Dress\n",
        "\n",
        "4\t-> Coat\n",
        "\n",
        "5\t-> Sandal\n",
        "\n",
        "6\t-> Shirt\n",
        "\n",
        "7\t-> Sneaker\n",
        "\n",
        "8\t-> Bag\n",
        "\n",
        "9\t-> Ankle boot"
      ],
      "metadata": {
        "id": "7uuVUwdZbt6x"
      }
    },
    {
      "cell_type": "code",
      "source": [
        "class_names = ['T-shirt/top', 'Trouser', 'Pullover', 'Dress', 'Coat',\n",
        "               'Sandal', 'Shirt', 'Sneaker', 'Bag', 'Ankle boot']"
      ],
      "metadata": {
        "id": "UlU5crE5h79N"
      },
      "execution_count": null,
      "outputs": []
    },
    {
      "cell_type": "markdown",
      "source": [
        "### Data Exploration and Preprocessing"
      ],
      "metadata": {
        "id": "j2cywxY_Dlim"
      }
    },
    {
      "cell_type": "code",
      "source": [
        "X_train.shape"
      ],
      "metadata": {
        "colab": {
          "base_uri": "https://localhost:8080/"
        },
        "id": "4M6JRFyYh_xH",
        "outputId": "b1d48e63-aeaf-4b53-f2e5-110fa7a47742"
      },
      "execution_count": null,
      "outputs": [
        {
          "output_type": "execute_result",
          "data": {
            "text/plain": [
              "(60000, 28, 28)"
            ]
          },
          "metadata": {},
          "execution_count": 7
        }
      ]
    },
    {
      "cell_type": "code",
      "source": [
        "len(y_train)"
      ],
      "metadata": {
        "colab": {
          "base_uri": "https://localhost:8080/"
        },
        "id": "gKlHjzOzh_5G",
        "outputId": "417033bc-4a99-4370-bb82-19e1d47563ab"
      },
      "execution_count": null,
      "outputs": [
        {
          "output_type": "execute_result",
          "data": {
            "text/plain": [
              "60000"
            ]
          },
          "metadata": {},
          "execution_count": 8
        }
      ]
    },
    {
      "cell_type": "code",
      "source": [
        "X_test.shape"
      ],
      "metadata": {
        "colab": {
          "base_uri": "https://localhost:8080/"
        },
        "id": "mYA5mOHtiMPi",
        "outputId": "eecc85a0-fdaf-4e22-9fb1-91a94cf5b750"
      },
      "execution_count": null,
      "outputs": [
        {
          "output_type": "execute_result",
          "data": {
            "text/plain": [
              "(10000, 28, 28)"
            ]
          },
          "metadata": {},
          "execution_count": 9
        }
      ]
    },
    {
      "cell_type": "code",
      "source": [
        "len(y_test)"
      ],
      "metadata": {
        "colab": {
          "base_uri": "https://localhost:8080/"
        },
        "id": "xgEOwrdQiAAt",
        "outputId": "faaceeaa-c653-43d1-e988-c0796782c14e"
      },
      "execution_count": null,
      "outputs": [
        {
          "output_type": "execute_result",
          "data": {
            "text/plain": [
              "10000"
            ]
          },
          "metadata": {},
          "execution_count": 10
        }
      ]
    },
    {
      "cell_type": "markdown",
      "source": [
        "There are 60,000 training images and 10,000 images. Each image is 28 x 28 pixels."
      ],
      "metadata": {
        "id": "pkDfycDtD4v_"
      }
    },
    {
      "cell_type": "code",
      "source": [
        "plt.imshow(X_train[0])\n",
        "plt.colorbar()\n",
        "plt.grid(False)\n",
        "plt.show()"
      ],
      "metadata": {
        "colab": {
          "base_uri": "https://localhost:8080/",
          "height": 265
        },
        "id": "9H5qeV7HiVb0",
        "outputId": "cebcceb0-7372-4424-f066-7e7d667029a6"
      },
      "execution_count": null,
      "outputs": [
        {
          "output_type": "display_data",
          "data": {
            "text/plain": [
              "<Figure size 432x288 with 2 Axes>"
            ],
            "image/png": "[encoded data removed]"
          },
          "metadata": {
            "needs_background": "light"
          }
        }
      ]
    },
    {
      "cell_type": "markdown",
      "source": [
        "For each image the pixel values are in between 0 and 255, so before inputting the images into the neural network we need to divide the values by 255."
      ],
      "metadata": {
        "id": "AocD6_2OFGYw"
      }
    },
    {
      "cell_type": "code",
      "source": [
        "plt.figure(figsize=(10,10))\n",
        "for i in range(25):\n",
        "    plt.subplot(5,5,i+1)\n",
        "    plt.xticks([])\n",
        "    plt.yticks([])\n",
        "    plt.grid(False)\n",
        "    plt.imshow(X_train[i], cmap=plt.cm.binary)\n",
        "    plt.xlabel(class_names[int(y_train[i])])\n",
        "plt.show()"
      ],
      "metadata": {
        "colab": {
          "base_uri": "https://localhost:8080/",
          "height": 589
        },
        "id": "6LI6kX71bbR3",
        "outputId": "512664c3-9bb2-4d87-a253-12484ac0f912"
      },
      "execution_count": null,
      "outputs": [
        {
          "output_type": "display_data",
          "data": {
            "text/plain": [
              "<Figure size 720x720 with 25 Axes>"
            ],
            "image/png": "[encoded data removed]"
          },
          "metadata": {}
        }
      ]
    },
    {
      "cell_type": "markdown",
      "source": [
        "The different types of fashion items have been plotted above after converting into grayscale as the original images are low resolution (blue-yellow colour) type images."
      ],
      "metadata": {
        "id": "gbxZy42MGTmz"
      }
    },
    {
      "cell_type": "code",
      "source": [
        "# Converting images into the (Height, Width, Channel) format where we have just one channel\n",
        "X_train = X_train.reshape((X_train.shape[0], 28, 28, 1))\n",
        "X_test = X_test.reshape((X_test.shape[0], 28, 28, 1))"
      ],
      "metadata": {
        "id": "LnoJKqAzlL5x"
      },
      "execution_count": null,
      "outputs": []
    },
    {
      "cell_type": "code",
      "source": [
        "# Perform One-Hot Encoding target values\n",
        "y_train = to_categorical(y_train)\n",
        "y_test = to_categorical(y_test)"
      ],
      "metadata": {
        "id": "k5MieMmemKPW"
      },
      "execution_count": null,
      "outputs": []
    },
    {
      "cell_type": "code",
      "source": [
        "# Define parameters and constants\n",
        "AUTO = tf.data.AUTOTUNE\n",
        "BATCH_SIZE = 32\n",
        "IMG_SIZE = 28"
      ],
      "metadata": {
        "id": "pVDBN_AkjuDb"
      },
      "execution_count": null,
      "outputs": []
    },
    {
      "cell_type": "code",
      "source": [
        "# Function for Preprocessing an image which includes resizing, converting the datatype to float and scaling the pixel values by dividing by 255.\n",
        "def preprocess_image(image, label):\n",
        "    image = tf.image.resize(image, (IMG_SIZE, IMG_SIZE))\n",
        "    image = tf.image.convert_image_dtype(image, tf.float32) / 255.0\n",
        "    return image, label"
      ],
      "metadata": {
        "id": "kytgPb4pkbUK"
      },
      "execution_count": null,
      "outputs": []
    },
    {
      "cell_type": "code",
      "source": [
        "# Convert the datasets into Tensorflow Datasets, followed by shuffling and mapping the preprocessing function\n",
        "train_ds_one = (\n",
        "    tf.data.Dataset.from_tensor_slices((X_train, y_train))\n",
        "    .shuffle(1024)\n",
        "    .map(preprocess_image, num_parallel_calls=AUTO)\n",
        ")\n",
        "train_ds_two = (\n",
        "    tf.data.Dataset.from_tensor_slices((X_train, y_train))\n",
        "    .shuffle(1024)\n",
        "    .map(preprocess_image, num_parallel_calls=AUTO)\n",
        ")\n",
        "\n",
        "train_ds_simple = tf.data.Dataset.from_tensor_slices((X_train, y_train))\n",
        "\n",
        "test_ds = tf.data.Dataset.from_tensor_slices((X_test, y_test))\n",
        "\n",
        "train_ds_simple = (\n",
        "    train_ds_simple.map(preprocess_image, num_parallel_calls=AUTO)\n",
        "    .batch(BATCH_SIZE)\n",
        "    .prefetch(AUTO)\n",
        ")\n",
        "\n",
        "# Combine two shuffled datasets from the same training data.\n",
        "train_ds = tf.data.Dataset.zip((train_ds_one, train_ds_two))\n",
        "\n",
        "test_ds = (\n",
        "    test_ds.map(preprocess_image, num_parallel_calls=AUTO)\n",
        "    .batch(BATCH_SIZE)\n",
        "    .prefetch(AUTO)\n",
        ")"
      ],
      "metadata": {
        "id": "Tj2JkjXakeSR"
      },
      "execution_count": null,
      "outputs": []
    },
    {
      "cell_type": "markdown",
      "source": [
        "### Cutmix Image Augmentation"
      ],
      "metadata": {
        "id": "tvTfhSs1ObRJ"
      }
    },
    {
      "cell_type": "markdown",
      "source": [
        "In CutMix augmentation we cut and paste random patches between the training images. The ground truth labels are mixed in proportion to the area of patches in the images. CutMix increases localization ability by making the model to focus on less discriminative parts of the object being classified and hence is also well suited for tasks like object detection."
      ],
      "metadata": {
        "id": "JkArIG7ObL_Y"
      }
    },
    {
      "cell_type": "code",
      "source": [
        "# Define a sample beta distribution function\n",
        "def sample_beta_distribution(size, concentration_0=0.2, concentration_1=0.2):\n",
        "    gamma_1_sample = tf.random.gamma(shape=[size], alpha=concentration_1)\n",
        "    gamma_2_sample = tf.random.gamma(shape=[size], alpha=concentration_0)\n",
        "    return gamma_1_sample / (gamma_1_sample + gamma_2_sample)"
      ],
      "metadata": {
        "id": "-QEQ64e0k3GW"
      },
      "execution_count": null,
      "outputs": []
    },
    {
      "cell_type": "code",
      "source": [
        "# Define a function creates and gets a box of some part of an image\n",
        "@tf.function\n",
        "def get_box(lambda_value):\n",
        "    cut_rat = tf.math.sqrt(1.0 - lambda_value)\n",
        "\n",
        "    cut_w = IMG_SIZE * cut_rat  # rw\n",
        "    cut_w = tf.cast(cut_w, tf.int32)\n",
        "\n",
        "    cut_h = IMG_SIZE * cut_rat  # rh\n",
        "    cut_h = tf.cast(cut_h, tf.int32)\n",
        "\n",
        "    cut_x = tf.random.uniform((1,), minval=0, maxval=IMG_SIZE, dtype=tf.int32)  # rx\n",
        "    cut_y = tf.random.uniform((1,), minval=0, maxval=IMG_SIZE, dtype=tf.int32)  # ry\n",
        "\n",
        "    boundaryx1 = tf.clip_by_value(cut_x[0] - cut_w // 2, 0, IMG_SIZE)\n",
        "    boundaryy1 = tf.clip_by_value(cut_y[0] - cut_h // 2, 0, IMG_SIZE)\n",
        "    bbx2 = tf.clip_by_value(cut_x[0] + cut_w // 2, 0, IMG_SIZE)\n",
        "    bby2 = tf.clip_by_value(cut_y[0] + cut_h // 2, 0, IMG_SIZE)\n",
        "\n",
        "    target_h = bby2 - boundaryy1\n",
        "    if target_h == 0:\n",
        "        target_h += 1\n",
        "\n",
        "    target_w = bbx2 - boundaryx1\n",
        "    if target_w == 0:\n",
        "        target_w += 1\n",
        "\n",
        "    return boundaryx1, boundaryy1, target_h, target_w"
      ],
      "metadata": {
        "id": "uVQoxW5tlZXO"
      },
      "execution_count": null,
      "outputs": []
    },
    {
      "cell_type": "code",
      "source": [
        "# Define the function that performs the cutmix operation on two images\n",
        "@tf.function\n",
        "def cutmix(train_ds_one, train_ds_two):\n",
        "    (image1, label1), (image2, label2) = train_ds_one, train_ds_two\n",
        "\n",
        "    alpha = [0.25]\n",
        "    beta = [0.25]\n",
        "\n",
        "    # Get a sample from the Beta distribution\n",
        "    lambda_value = sample_beta_distribution(1, alpha, beta)\n",
        "\n",
        "    # Define Lambda\n",
        "    lambda_value = lambda_value[0][0]\n",
        "\n",
        "    # Get the bounding box offsets, heights and widths\n",
        "    boundaryx1, boundaryy1, target_h, target_w = get_box(lambda_value)\n",
        "\n",
        "    # Get a patch from the second image (`image2`)\n",
        "    crop2 = tf.image.crop_to_bounding_box(\n",
        "        image2, boundaryy1, boundaryx1, target_h, target_w\n",
        "    )\n",
        "    # Pad the `image2` patch (`crop2`) with the same offset\n",
        "    image2 = tf.image.pad_to_bounding_box(\n",
        "        crop2, boundaryy1, boundaryx1, IMG_SIZE, IMG_SIZE\n",
        "    )\n",
        "    # Get a patch from the first image (`image1`)\n",
        "    crop1 = tf.image.crop_to_bounding_box(\n",
        "        image1, boundaryy1, boundaryx1, target_h, target_w\n",
        "    )\n",
        "    # Pad the `image1` patch (`crop1`) with the same offset\n",
        "    img1 = tf.image.pad_to_bounding_box(\n",
        "        crop1, boundaryy1, boundaryx1, IMG_SIZE, IMG_SIZE\n",
        "    )\n",
        "\n",
        "    # Modify the first image by subtracting the patch from `image1`\n",
        "    # (before applying the `image2` patch)\n",
        "    image1 = image1 - img1\n",
        "    # Add the modified `image1` and `image2`  together to get the CutMix image\n",
        "    image = image1 + image2\n",
        "\n",
        "    # Adjust Lambda in accordance to the pixel ration\n",
        "    lambda_value = 1 - (target_w * target_h) / (IMG_SIZE * IMG_SIZE)\n",
        "    lambda_value = tf.cast(lambda_value, tf.float32)\n",
        "\n",
        "    # Combine the labels of both images\n",
        "    label = lambda_value * label1 + (1 - lambda_value) * label2\n",
        "    return image, label"
      ],
      "metadata": {
        "id": "Xpb150QBlhPZ"
      },
      "execution_count": null,
      "outputs": []
    },
    {
      "cell_type": "code",
      "source": [
        "# Create the new dataset using the cutmix function\n",
        "train_ds_cmu = (\n",
        "    train_ds.shuffle(1024)\n",
        "    .map(cutmix, num_parallel_calls=AUTO)\n",
        "    .batch(BATCH_SIZE)\n",
        "    .prefetch(AUTO)\n",
        ") # Dataset after cutmix augmentation"
      ],
      "metadata": {
        "id": "w1coFaLYli6F"
      },
      "execution_count": null,
      "outputs": []
    },
    {
      "cell_type": "code",
      "source": [
        "train_ds_cmu.cardinality().numpy()"
      ],
      "metadata": {
        "colab": {
          "base_uri": "https://localhost:8080/"
        },
        "id": "1hKbWUQ3Jwdf",
        "outputId": "49da72ee-d60f-4ee2-9d8c-67c57f8608c9"
      },
      "execution_count": null,
      "outputs": [
        {
          "output_type": "execute_result",
          "data": {
            "text/plain": [
              "1875"
            ]
          },
          "metadata": {},
          "execution_count": 62
        }
      ]
    },
    {
      "cell_type": "markdown",
      "source": [
        "1875 images were created. "
      ],
      "metadata": {
        "id": "qArnKP0hLXUb"
      }
    },
    {
      "cell_type": "code",
      "source": [
        "import cv2\n",
        "# Preview 9 samples from the dataset\n",
        "image_batch, label_batch = next(iter(train_ds_cmu))\n",
        "plt.figure(figsize=(10, 10))\n",
        "for i in range(9):\n",
        "    ax = plt.subplot(3, 3, i + 1)\n",
        "    plt.title(class_names[np.argmax(label_batch[i])])\n",
        "    plt.imshow(image_batch[i].numpy().transpose(2,0,1)[0])\n",
        "    plt.axis(\"off\")"
      ],
      "metadata": {
        "colab": {
          "base_uri": "https://localhost:8080/",
          "height": 591
        },
        "id": "x9E4Y0Qtlvfo",
        "outputId": "8c95a4e3-e3c6-44d2-a74f-c32ac6674269"
      },
      "execution_count": null,
      "outputs": [
        {
          "output_type": "display_data",
          "data": {
            "text/plain": [
              "<Figure size 720x720 with 9 Axes>"
            ],
            "image/png": "[encoded data removed]"
          },
          "metadata": {
            "needs_background": "light"
          }
        }
      ]
    },
    {
      "cell_type": "markdown",
      "source": [
        "#### AlexNet Model"
      ],
      "metadata": {
        "id": "cMqyPjr-O5C-"
      }
    },
    {
      "cell_type": "code",
      "source": [
        "from keras.models import Sequential\n",
        "from keras.layers.core import Dense, Dropout, Activation, Flatten\n",
        "from keras.layers.convolutional import Conv2D, MaxPooling2D, ZeroPadding2D\n",
        "from tensorflow.keras.layers import BatchNormalization\n",
        "from keras.regularizers import l2\n",
        "\n",
        "def alexnet_model(img_shape=(28, 28, 1), n_classes=10, l2_reg=0.,\n",
        "\tweights=None):\n",
        "\n",
        "\t# Initialize model\n",
        "\talexnet = Sequential()\n",
        "\n",
        "\t# Layer 1\n",
        "\talexnet.add(Conv2D(96, (11, 11), input_shape=img_shape,\n",
        "\t\tpadding='same', kernel_regularizer=l2(l2_reg)))\n",
        "\talexnet.add(BatchNormalization())\n",
        "\talexnet.add(Activation('relu'))\n",
        "\talexnet.add(MaxPooling2D(pool_size=(2, 2)))\n",
        "\n",
        "\t# Layer 2\n",
        "\talexnet.add(Conv2D(256, (5, 5), padding='same'))\n",
        "\talexnet.add(BatchNormalization())\n",
        "\talexnet.add(Activation('relu'))\n",
        "\talexnet.add(MaxPooling2D(pool_size=(2, 2)))\n",
        "\n",
        "\t# Layer 3\n",
        "\talexnet.add(ZeroPadding2D((1, 1)))\n",
        "\talexnet.add(Conv2D(512, (3, 3), padding='same'))\n",
        "\talexnet.add(BatchNormalization())\n",
        "\talexnet.add(Activation('relu'))\n",
        "\talexnet.add(MaxPooling2D(pool_size=(2, 2)))\n",
        "\n",
        "\t# Layer 4\n",
        "\talexnet.add(ZeroPadding2D((1, 1)))\n",
        "\talexnet.add(Conv2D(1024, (3, 3), padding='same'))\n",
        "\talexnet.add(BatchNormalization())\n",
        "\talexnet.add(Activation('relu'))\n",
        "\n",
        "\t# Layer 5\n",
        "\talexnet.add(ZeroPadding2D((1, 1)))\n",
        "\talexnet.add(Conv2D(1024, (3, 3), padding='same'))\n",
        "\talexnet.add(BatchNormalization())\n",
        "\talexnet.add(Activation('relu'))\n",
        "\talexnet.add(MaxPooling2D(pool_size=(2, 2)))\n",
        "\n",
        "\t# Layer 6\n",
        "\talexnet.add(Flatten())\n",
        "\talexnet.add(Dense(3072))\n",
        "\talexnet.add(BatchNormalization())\n",
        "\talexnet.add(Activation('relu'))\n",
        "\talexnet.add(Dropout(0.5))\n",
        "\n",
        "\t# Layer 7\n",
        "\talexnet.add(Dense(4096))\n",
        "\talexnet.add(BatchNormalization())\n",
        "\talexnet.add(Activation('relu'))\n",
        "\talexnet.add(Dropout(0.5))\n",
        "\n",
        "\t# Layer 8\n",
        "\talexnet.add(Dense(n_classes))\n",
        "\talexnet.add(BatchNormalization())\n",
        "\talexnet.add(Activation('softmax'))\n",
        "\n",
        "\tif weights is not None:\n",
        "\t\talexnet.load_weights(weights)\n",
        "\n",
        "\treturn alexnet"
      ],
      "metadata": {
        "id": "tRmaUBo-oJrW"
      },
      "execution_count": null,
      "outputs": []
    },
    {
      "cell_type": "code",
      "source": [
        "model = alexnet_model()"
      ],
      "metadata": {
        "id": "7cXJecmd_X2b"
      },
      "execution_count": null,
      "outputs": []
    },
    {
      "cell_type": "code",
      "source": [
        "model.summary()"
      ],
      "metadata": {
        "colab": {
          "base_uri": "https://localhost:8080/"
        },
        "id": "SRuG-NVC_r0V",
        "outputId": "cfbe274e-5752-4040-b69b-2ecb8fa8902f"
      },
      "execution_count": null,
      "outputs": [
        {
          "output_type": "stream",
          "name": "stdout",
          "text": [
            "Model: \"sequential\"\n",
            "_________________________________________________________________\n",
            " Layer (type)                Output Shape              Param #   \n",
            "=================================================================\n",
            " conv2d (Conv2D)             (None, 28, 28, 96)        11712     \n",
            "                                                                 \n",
            " batch_normalization (BatchN  (None, 28, 28, 96)       384       \n",
            " ormalization)                                                   \n",
            "                                                                 \n",
            " activation (Activation)     (None, 28, 28, 96)        0         \n",
            "                                                                 \n",
            " max_pooling2d (MaxPooling2D  (None, 14, 14, 96)       0         \n",
            " )                                                               \n",
            "                                                                 \n",
            " conv2d_1 (Conv2D)           (None, 14, 14, 256)       614656    \n",
            "                                                                 \n",
            " batch_normalization_1 (Batc  (None, 14, 14, 256)      1024      \n",
            " hNormalization)                                                 \n",
            "                                                                 \n",
            " activation_1 (Activation)   (None, 14, 14, 256)       0         \n",
            "                                                                 \n",
            " max_pooling2d_1 (MaxPooling  (None, 7, 7, 256)        0         \n",
            " 2D)                                                             \n",
            "                                                                 \n",
            " zero_padding2d (ZeroPadding  (None, 9, 9, 256)        0         \n",
            " 2D)                                                             \n",
            "                                                                 \n",
            " conv2d_2 (Conv2D)           (None, 9, 9, 512)         1180160   \n",
            "                                                                 \n",
            " batch_normalization_2 (Batc  (None, 9, 9, 512)        2048      \n",
            " hNormalization)                                                 \n",
            "                                                                 \n",
            " activation_2 (Activation)   (None, 9, 9, 512)         0         \n",
            "                                                                 \n",
            " max_pooling2d_2 (MaxPooling  (None, 4, 4, 512)        0         \n",
            " 2D)                                                             \n",
            "                                                                 \n",
            " zero_padding2d_1 (ZeroPaddi  (None, 6, 6, 512)        0         \n",
            " ng2D)                                                           \n",
            "                                                                 \n",
            " conv2d_3 (Conv2D)           (None, 6, 6, 1024)        4719616   \n",
            "                                                                 \n",
            " batch_normalization_3 (Batc  (None, 6, 6, 1024)       4096      \n",
            " hNormalization)                                                 \n",
            "                                                                 \n",
            " activation_3 (Activation)   (None, 6, 6, 1024)        0         \n",
            "                                                                 \n",
            " zero_padding2d_2 (ZeroPaddi  (None, 8, 8, 1024)       0         \n",
            " ng2D)                                                           \n",
            "                                                                 \n",
            " conv2d_4 (Conv2D)           (None, 8, 8, 1024)        9438208   \n",
            "                                                                 \n",
            " batch_normalization_4 (Batc  (None, 8, 8, 1024)       4096      \n",
            " hNormalization)                                                 \n",
            "                                                                 \n",
            " activation_4 (Activation)   (None, 8, 8, 1024)        0         \n",
            "                                                                 \n",
            " max_pooling2d_3 (MaxPooling  (None, 4, 4, 1024)       0         \n",
            " 2D)                                                             \n",
            "                                                                 \n",
            " flatten (Flatten)           (None, 16384)             0         \n",
            "                                                                 \n",
            " dense (Dense)               (None, 3072)              50334720  \n",
            "                                                                 \n",
            " batch_normalization_5 (Batc  (None, 3072)             12288     \n",
            " hNormalization)                                                 \n",
            "                                                                 \n",
            " activation_5 (Activation)   (None, 3072)              0         \n",
            "                                                                 \n",
            " dropout (Dropout)           (None, 3072)              0         \n",
            "                                                                 \n",
            " dense_1 (Dense)             (None, 4096)              12587008  \n",
            "                                                                 \n",
            " batch_normalization_6 (Batc  (None, 4096)             16384     \n",
            " hNormalization)                                                 \n",
            "                                                                 \n",
            " activation_6 (Activation)   (None, 4096)              0         \n",
            "                                                                 \n",
            " dropout_1 (Dropout)         (None, 4096)              0         \n",
            "                                                                 \n",
            " dense_2 (Dense)             (None, 10)                40970     \n",
            "                                                                 \n",
            " batch_normalization_7 (Batc  (None, 10)               40        \n",
            " hNormalization)                                                 \n",
            "                                                                 \n",
            " activation_7 (Activation)   (None, 10)                0         \n",
            "                                                                 \n",
            "=================================================================\n",
            "Total params: 78,967,410\n",
            "Trainable params: 78,947,230\n",
            "Non-trainable params: 20,180\n",
            "_________________________________________________________________\n"
          ]
        }
      ]
    },
    {
      "cell_type": "code",
      "source": [
        "model.compile(optimizer = 'adam' , loss = 'categorical_crossentropy' , metrics=['accuracy'])"
      ],
      "metadata": {
        "id": "t5bCSGYI_uEn"
      },
      "execution_count": null,
      "outputs": []
    },
    {
      "cell_type": "code",
      "source": [
        "history = model.fit(train_ds_cmu, validation_data=test_ds, epochs=15)\n",
        "\n",
        "test_loss, test_accuracy = model.evaluate(test_ds)\n",
        "print(\"Test accuracy: {:.2f}%\".format(test_accuracy * 100))"
      ],
      "metadata": {
        "colab": {
          "base_uri": "https://localhost:8080/"
        },
        "id": "IjfpioCYAWjo",
        "outputId": "71d95d23-99c3-404d-88d1-74ec71dc46d1"
      },
      "execution_count": null,
      "outputs": [
        {
          "output_type": "stream",
          "name": "stdout",
          "text": [
            "Epoch 1/15\n",
            "1875/1875 [==============================] - 233s 120ms/step - loss: 1.1737 - accuracy: 0.6894 - val_loss: 0.6115 - val_accuracy: 0.8269\n",
            "Epoch 2/15\n",
            "1875/1875 [==============================] - 224s 120ms/step - loss: 0.9889 - accuracy: 0.7451 - val_loss: 0.4781 - val_accuracy: 0.8329\n",
            "Epoch 3/15\n",
            "1875/1875 [==============================] - 218s 116ms/step - loss: 0.9167 - accuracy: 0.7615 - val_loss: 0.3663 - val_accuracy: 0.8861\n",
            "Epoch 4/15\n",
            "1875/1875 [==============================] - 219s 117ms/step - loss: 0.8697 - accuracy: 0.7757 - val_loss: 0.3627 - val_accuracy: 0.8823\n",
            "Epoch 5/15\n",
            "1875/1875 [==============================] - 219s 117ms/step - loss: 0.8411 - accuracy: 0.7843 - val_loss: 0.2914 - val_accuracy: 0.9086\n",
            "Epoch 6/15\n",
            "1875/1875 [==============================] - 220s 117ms/step - loss: 0.8130 - accuracy: 0.7927 - val_loss: 0.2948 - val_accuracy: 0.9066\n",
            "Epoch 7/15\n",
            "1875/1875 [==============================] - 218s 116ms/step - loss: 0.7913 - accuracy: 0.8015 - val_loss: 0.3013 - val_accuracy: 0.9053\n",
            "Epoch 8/15\n",
            "1875/1875 [==============================] - 216s 115ms/step - loss: 0.7746 - accuracy: 0.8045 - val_loss: 0.2756 - val_accuracy: 0.9129\n",
            "Epoch 9/15\n",
            "1875/1875 [==============================] - 217s 115ms/step - loss: 0.7544 - accuracy: 0.8105 - val_loss: 0.2810 - val_accuracy: 0.9118\n",
            "Epoch 10/15\n",
            "1875/1875 [==============================] - 216s 115ms/step - loss: 0.7412 - accuracy: 0.8154 - val_loss: 0.2516 - val_accuracy: 0.9192\n",
            "Epoch 11/15\n",
            "1875/1875 [==============================] - 216s 115ms/step - loss: 0.7282 - accuracy: 0.8187 - val_loss: 0.2495 - val_accuracy: 0.9194\n",
            "Epoch 12/15\n",
            "1875/1875 [==============================] - 218s 116ms/step - loss: 0.7119 - accuracy: 0.8238 - val_loss: 0.2606 - val_accuracy: 0.9159\n",
            "Epoch 13/15\n",
            "1875/1875 [==============================] - 217s 115ms/step - loss: 0.7059 - accuracy: 0.8268 - val_loss: 0.2477 - val_accuracy: 0.9228\n",
            "Epoch 14/15\n",
            "1875/1875 [==============================] - 217s 116ms/step - loss: 0.6934 - accuracy: 0.8313 - val_loss: 0.2359 - val_accuracy: 0.9256\n",
            "Epoch 15/15\n",
            "1875/1875 [==============================] - 217s 116ms/step - loss: 0.6851 - accuracy: 0.8371 - val_loss: 0.2829 - val_accuracy: 0.9084\n",
            "313/313 [==============================] - 10s 32ms/step - loss: 0.2829 - accuracy: 0.9084\n",
            "Test accuracy: 90.84%\n"
          ]
        }
      ]
    },
    {
      "cell_type": "markdown",
      "source": [
        "#### Saving Model"
      ],
      "metadata": {
        "id": "qDJC73geQMWc"
      }
    },
    {
      "cell_type": "code",
      "source": [
        "model.save_weights(\"/content/drive/MyDrive/AkshatBhat-CodingTask/alexnet_model_weights_cutmix.h5\")"
      ],
      "metadata": {
        "id": "RjVy0FCDA2_X"
      },
      "execution_count": null,
      "outputs": []
    },
    {
      "cell_type": "code",
      "source": [
        "model.save(\"/content/drive/MyDrive/AkshatBhat-CodingTask/alexnet_model_cutmix.h5\")"
      ],
      "metadata": {
        "id": "20YE1RTHJckj"
      },
      "execution_count": null,
      "outputs": []
    },
    {
      "cell_type": "markdown",
      "source": [
        "#### Plotting the Training and Testing Loss and Accuracy Curves"
      ],
      "metadata": {
        "id": "VQxJmof-QVAk"
      }
    },
    {
      "cell_type": "code",
      "source": [
        "plt.plot(history.history['loss'])\n",
        "plt.plot(history.history['val_loss'])\n",
        "plt.title('model loss')\n",
        "plt.ylabel('loss')\n",
        "plt.xlabel('epoch')\n",
        "plt.legend(['train', 'test'], loc='upper left')\n",
        "plt.show()"
      ],
      "metadata": {
        "colab": {
          "base_uri": "https://localhost:8080/",
          "height": 295
        },
        "id": "BdQf-e8zxWck",
        "outputId": "db109005-118c-47b1-d7a4-8fca5c71e402"
      },
      "execution_count": null,
      "outputs": [
        {
          "output_type": "display_data",
          "data": {
            "text/plain": [
              "<Figure size 432x288 with 1 Axes>"
            ],
            "image/png": "[encoded data removed]"
          },
          "metadata": {
            "needs_background": "light"
          }
        }
      ]
    },
    {
      "cell_type": "code",
      "source": [
        "plt.plot(history.history['accuracy'])\n",
        "plt.plot(history.history['val_accuracy'])\n",
        "plt.title('model accuracy')\n",
        "plt.ylabel('accuracy')\n",
        "plt.xlabel('epoch')\n",
        "plt.legend(['train', 'test'], loc='upper left')\n",
        "plt.show()"
      ],
      "metadata": {
        "colab": {
          "base_uri": "https://localhost:8080/",
          "height": 295
        },
        "id": "HrORBs1BxcAO",
        "outputId": "3f8e589a-8a60-4308-ed10-f0588cb64d1d"
      },
      "execution_count": null,
      "outputs": [
        {
          "output_type": "display_data",
          "data": {
            "text/plain": [
              "<Figure size 432x288 with 1 Axes>"
            ],
            "image/png": "[encoded data removed]"
          },
          "metadata": {
            "needs_background": "light"
          }
        }
      ]
    },
    {
      "cell_type": "markdown",
      "source": [
        "#### Loading Model"
      ],
      "metadata": {
        "id": "tuiEoj2-Qat7"
      }
    },
    {
      "cell_type": "code",
      "source": [
        "# Recreate the exact same model, including its weights and the optimizer\n",
        "model = tf.keras.models.load_model('/content/drive/MyDrive/AkshatBhat-CodingTask/alexnet_model_cutmix.h5')\n",
        "\n",
        "# Show the model architecture\n",
        "model.summary()"
      ],
      "metadata": {
        "colab": {
          "base_uri": "https://localhost:8080/"
        },
        "id": "-kYGL0lAOGf2",
        "outputId": "c63e202c-2f40-49cc-f7fe-3989c3e6e842"
      },
      "execution_count": null,
      "outputs": [
        {
          "output_type": "stream",
          "name": "stdout",
          "text": [
            "Model: \"sequential\"\n",
            "_________________________________________________________________\n",
            " Layer (type)                Output Shape              Param #   \n",
            "=================================================================\n",
            " conv2d (Conv2D)             (None, 28, 28, 96)        11712     \n",
            "                                                                 \n",
            " batch_normalization (BatchN  (None, 28, 28, 96)       384       \n",
            " ormalization)                                                   \n",
            "                                                                 \n",
            " activation (Activation)     (None, 28, 28, 96)        0         \n",
            "                                                                 \n",
            " max_pooling2d (MaxPooling2D  (None, 14, 14, 96)       0         \n",
            " )                                                               \n",
            "                                                                 \n",
            " conv2d_1 (Conv2D)           (None, 14, 14, 256)       614656    \n",
            "                                                                 \n",
            " batch_normalization_1 (Batc  (None, 14, 14, 256)      1024      \n",
            " hNormalization)                                                 \n",
            "                                                                 \n",
            " activation_1 (Activation)   (None, 14, 14, 256)       0         \n",
            "                                                                 \n",
            " max_pooling2d_1 (MaxPooling  (None, 7, 7, 256)        0         \n",
            " 2D)                                                             \n",
            "                                                                 \n",
            " zero_padding2d (ZeroPadding  (None, 9, 9, 256)        0         \n",
            " 2D)                                                             \n",
            "                                                                 \n",
            " conv2d_2 (Conv2D)           (None, 9, 9, 512)         1180160   \n",
            "                                                                 \n",
            " batch_normalization_2 (Batc  (None, 9, 9, 512)        2048      \n",
            " hNormalization)                                                 \n",
            "                                                                 \n",
            " activation_2 (Activation)   (None, 9, 9, 512)         0         \n",
            "                                                                 \n",
            " max_pooling2d_2 (MaxPooling  (None, 4, 4, 512)        0         \n",
            " 2D)                                                             \n",
            "                                                                 \n",
            " zero_padding2d_1 (ZeroPaddi  (None, 6, 6, 512)        0         \n",
            " ng2D)                                                           \n",
            "                                                                 \n",
            " conv2d_3 (Conv2D)           (None, 6, 6, 1024)        4719616   \n",
            "                                                                 \n",
            " batch_normalization_3 (Batc  (None, 6, 6, 1024)       4096      \n",
            " hNormalization)                                                 \n",
            "                                                                 \n",
            " activation_3 (Activation)   (None, 6, 6, 1024)        0         \n",
            "                                                                 \n",
            " zero_padding2d_2 (ZeroPaddi  (None, 8, 8, 1024)       0         \n",
            " ng2D)                                                           \n",
            "                                                                 \n",
            " conv2d_4 (Conv2D)           (None, 8, 8, 1024)        9438208   \n",
            "                                                                 \n",
            " batch_normalization_4 (Batc  (None, 8, 8, 1024)       4096      \n",
            " hNormalization)                                                 \n",
            "                                                                 \n",
            " activation_4 (Activation)   (None, 8, 8, 1024)        0         \n",
            "                                                                 \n",
            " max_pooling2d_3 (MaxPooling  (None, 4, 4, 1024)       0         \n",
            " 2D)                                                             \n",
            "                                                                 \n",
            " flatten (Flatten)           (None, 16384)             0         \n",
            "                                                                 \n",
            " dense (Dense)               (None, 3072)              50334720  \n",
            "                                                                 \n",
            " batch_normalization_5 (Batc  (None, 3072)             12288     \n",
            " hNormalization)                                                 \n",
            "                                                                 \n",
            " activation_5 (Activation)   (None, 3072)              0         \n",
            "                                                                 \n",
            " dropout (Dropout)           (None, 3072)              0         \n",
            "                                                                 \n",
            " dense_1 (Dense)             (None, 4096)              12587008  \n",
            "                                                                 \n",
            " batch_normalization_6 (Batc  (None, 4096)             16384     \n",
            " hNormalization)                                                 \n",
            "                                                                 \n",
            " activation_6 (Activation)   (None, 4096)              0         \n",
            "                                                                 \n",
            " dropout_1 (Dropout)         (None, 4096)              0         \n",
            "                                                                 \n",
            " dense_2 (Dense)             (None, 10)                40970     \n",
            "                                                                 \n",
            " batch_normalization_7 (Batc  (None, 10)               40        \n",
            " hNormalization)                                                 \n",
            "                                                                 \n",
            " activation_7 (Activation)   (None, 10)                0         \n",
            "                                                                 \n",
            "=================================================================\n",
            "Total params: 78,967,410\n",
            "Trainable params: 78,947,230\n",
            "Non-trainable params: 20,180\n",
            "_________________________________________________________________\n"
          ]
        }
      ]
    },
    {
      "cell_type": "markdown",
      "source": [
        "#### Examining the Predictions of the Model"
      ],
      "metadata": {
        "id": "FItkE8B9QdZI"
      }
    },
    {
      "cell_type": "code",
      "source": [
        "predictions = model.predict(test_ds)"
      ],
      "metadata": {
        "id": "1NCF2V2JyTXD"
      },
      "execution_count": null,
      "outputs": []
    },
    {
      "cell_type": "code",
      "source": [
        "predictions[0]"
      ],
      "metadata": {
        "colab": {
          "base_uri": "https://localhost:8080/"
        },
        "id": "RTHLz6IiybD9",
        "outputId": "110537cd-7945-42a5-c424-2e17c7d31fcf"
      },
      "execution_count": null,
      "outputs": [
        {
          "output_type": "execute_result",
          "data": {
            "text/plain": [
              "array([9.9880846e-05, 9.5883000e-04, 9.4495469e-04, 1.2792590e-03,\n",
              "       8.0010784e-04, 9.8195858e-02, 2.6211128e-04, 1.1758094e-02,\n",
              "       2.8647990e-03, 8.8283610e-01], dtype=float32)"
            ]
          },
          "metadata": {},
          "execution_count": 30
        }
      ]
    },
    {
      "cell_type": "code",
      "source": [
        "test_labels[0]"
      ],
      "metadata": {
        "colab": {
          "base_uri": "https://localhost:8080/"
        },
        "id": "2NchANzJyb-x",
        "outputId": "aef4eced-8b33-4b3f-dee2-be947a08588d"
      },
      "execution_count": null,
      "outputs": [
        {
          "output_type": "execute_result",
          "data": {
            "text/plain": [
              "9"
            ]
          },
          "metadata": {},
          "execution_count": 31
        }
      ]
    },
    {
      "cell_type": "code",
      "source": [
        "# Show the 0th image:\n",
        "index = 0\n",
        "utils.plot_image_and_prob(predictions, test_labels, test_images, i=index, big=True, class_names=class_names)"
      ],
      "metadata": {
        "colab": {
          "base_uri": "https://localhost:8080/",
          "height": 545
        },
        "id": "Ue3EL2oeuxYV",
        "outputId": "b7cdebc9-4b51-4b43-8157-8d243acfed88"
      },
      "execution_count": null,
      "outputs": [
        {
          "output_type": "display_data",
          "data": {
            "text/plain": [
              "<Figure size 432x288 with 1 Axes>"
            ],
            "image/png": "[encoded data removed]"
          },
          "metadata": {}
        },
        {
          "output_type": "display_data",
          "data": {
            "text/plain": [
              "<Figure size 432x288 with 1 Axes>"
            ],
            "image/png": "[encoded data removed]"
          },
          "metadata": {
            "needs_background": "light"
          }
        }
      ]
    },
    {
      "cell_type": "code",
      "source": [
        "# As always - let's convert the probabilities array into classes\n",
        "predicted_classes = utils.label_with_highest_prob(predictions)\n",
        "\n",
        "# Plot the matrix\n",
        "utils.plot_confusion_matrix(y_pred=predicted_classes, y_true=test_labels, classes=np.array(class_names))"
      ],
      "metadata": {
        "colab": {
          "base_uri": "https://localhost:8080/",
          "height": 333
        },
        "id": "SrRpXb1mu-D7",
        "outputId": "a6ddcd9d-18ef-4457-9a4a-c75caba362e5"
      },
      "execution_count": null,
      "outputs": [
        {
          "output_type": "stream",
          "name": "stdout",
          "text": [
            "Confusion matrix\n"
          ]
        },
        {
          "output_type": "execute_result",
          "data": {
            "text/plain": [
              "<matplotlib.axes._subplots.AxesSubplot at 0x7faf900cded0>"
            ]
          },
          "metadata": {},
          "execution_count": 33
        },
        {
          "output_type": "display_data",
          "data": {
            "text/plain": [
              "<Figure size 432x288 with 2 Axes>"
            ],
            "image/png": "[encoded data removed]"
          },
          "metadata": {
            "needs_background": "light"
          }
        }
      ]
    },
    {
      "cell_type": "code",
      "source": [
        "from sklearn.metrics import classification_report,roc_curve,confusion_matrix\n",
        "print('Classification Report\\n',classification_report(test_labels, predicted_classes))"
      ],
      "metadata": {
        "colab": {
          "base_uri": "https://localhost:8080/"
        },
        "id": "pfAGwJ7qv9mo",
        "outputId": "6235d457-54c2-4527-8d66-56f50c3b72e8"
      },
      "execution_count": null,
      "outputs": [
        {
          "output_type": "stream",
          "name": "stdout",
          "text": [
            "Classification Report\n",
            "               precision    recall  f1-score   support\n",
            "\n",
            "           0       0.94      0.72      0.82      1000\n",
            "           1       0.99      0.98      0.99      1000\n",
            "           2       0.94      0.75      0.83      1000\n",
            "           3       0.93      0.93      0.93      1000\n",
            "           4       0.79      0.92      0.85      1000\n",
            "           5       0.99      0.99      0.99      1000\n",
            "           6       0.68      0.86      0.76      1000\n",
            "           7       0.96      0.99      0.97      1000\n",
            "           8       0.98      0.99      0.98      1000\n",
            "           9       0.99      0.96      0.97      1000\n",
            "\n",
            "    accuracy                           0.91     10000\n",
            "   macro avg       0.92      0.91      0.91     10000\n",
            "weighted avg       0.92      0.91      0.91     10000\n",
            "\n"
          ]
        }
      ]
    },
    {
      "cell_type": "markdown",
      "source": [
        "### Cutout Image Augmentation\n"
      ],
      "metadata": {
        "id": "IMP09KM23Y5H"
      }
    },
    {
      "cell_type": "markdown",
      "source": [
        "Cutout augmentation is a kind of regional dropout strategy in which a random patch from an image is zeroed out (replaced with black pixels). Cutout samples suffer from the decrease in information and regularization capability."
      ],
      "metadata": {
        "id": "PaYkIU4BbTlJ"
      }
    },
    {
      "cell_type": "code",
      "source": [
        "# Installing Tensorflow Addons Library\n",
        "!pip install tensorflow-addons==0.9.1\n",
        "import tensorflow_addons as tfa"
      ],
      "metadata": {
        "colab": {
          "base_uri": "https://localhost:8080/"
        },
        "id": "e7LDkLZ43XAd",
        "outputId": "ec14d0ce-90c3-43d1-ed3b-4037516e06fe"
      },
      "execution_count": null,
      "outputs": [
        {
          "output_type": "stream",
          "name": "stdout",
          "text": [
            "Collecting tensorflow-addons==0.9.1\n",
            "  Downloading tensorflow_addons-0.9.1-cp37-cp37m-manylinux2010_x86_64.whl (1.0 MB)\n",
            "\u001b[?25l\r\u001b[K     |▎                               | 10 kB 31.1 MB/s eta 0:00:01\r\u001b[K     |▋                               | 20 kB 23.8 MB/s eta 0:00:01\r\u001b[K     |█                               | 30 kB 11.2 MB/s eta 0:00:01\r\u001b[K     |█▎                              | 40 kB 4.5 MB/s eta 0:00:01\r\u001b[K     |█▋                              | 51 kB 4.4 MB/s eta 0:00:01\r\u001b[K     |██                              | 61 kB 5.2 MB/s eta 0:00:01\r\u001b[K     |██▎                             | 71 kB 5.7 MB/s eta 0:00:01\r\u001b[K     |██▋                             | 81 kB 5.7 MB/s eta 0:00:01\r\u001b[K     |██▉                             | 92 kB 6.3 MB/s eta 0:00:01\r\u001b[K     |███▏                            | 102 kB 5.3 MB/s eta 0:00:01\r\u001b[K     |███▌                            | 112 kB 5.3 MB/s eta 0:00:01\r\u001b[K     |███▉                            | 122 kB 5.3 MB/s eta 0:00:01\r\u001b[K     |████▏                           | 133 kB 5.3 MB/s eta 0:00:01\r\u001b[K     |████▌                           | 143 kB 5.3 MB/s eta 0:00:01\r\u001b[K     |████▉                           | 153 kB 5.3 MB/s eta 0:00:01\r\u001b[K     |█████▏                          | 163 kB 5.3 MB/s eta 0:00:01\r\u001b[K     |█████▍                          | 174 kB 5.3 MB/s eta 0:00:01\r\u001b[K     |█████▊                          | 184 kB 5.3 MB/s eta 0:00:01\r\u001b[K     |██████                          | 194 kB 5.3 MB/s eta 0:00:01\r\u001b[K     |██████▍                         | 204 kB 5.3 MB/s eta 0:00:01\r\u001b[K     |██████▊                         | 215 kB 5.3 MB/s eta 0:00:01\r\u001b[K     |███████                         | 225 kB 5.3 MB/s eta 0:00:01\r\u001b[K     |███████▍                        | 235 kB 5.3 MB/s eta 0:00:01\r\u001b[K     |███████▊                        | 245 kB 5.3 MB/s eta 0:00:01\r\u001b[K     |████████                        | 256 kB 5.3 MB/s eta 0:00:01\r\u001b[K     |████████▎                       | 266 kB 5.3 MB/s eta 0:00:01\r\u001b[K     |████████▋                       | 276 kB 5.3 MB/s eta 0:00:01\r\u001b[K     |█████████                       | 286 kB 5.3 MB/s eta 0:00:01\r\u001b[K     |█████████▎                      | 296 kB 5.3 MB/s eta 0:00:01\r\u001b[K     |█████████▋                      | 307 kB 5.3 MB/s eta 0:00:01\r\u001b[K     |██████████                      | 317 kB 5.3 MB/s eta 0:00:01\r\u001b[K     |██████████▎                     | 327 kB 5.3 MB/s eta 0:00:01\r\u001b[K     |██████████▌                     | 337 kB 5.3 MB/s eta 0:00:01\r\u001b[K     |██████████▉                     | 348 kB 5.3 MB/s eta 0:00:01\r\u001b[K     |███████████▏                    | 358 kB 5.3 MB/s eta 0:00:01\r\u001b[K     |███████████▌                    | 368 kB 5.3 MB/s eta 0:00:01\r\u001b[K     |███████████▉                    | 378 kB 5.3 MB/s eta 0:00:01\r\u001b[K     |████████████▏                   | 389 kB 5.3 MB/s eta 0:00:01\r\u001b[K     |████████████▌                   | 399 kB 5.3 MB/s eta 0:00:01\r\u001b[K     |████████████▉                   | 409 kB 5.3 MB/s eta 0:00:01\r\u001b[K     |█████████████                   | 419 kB 5.3 MB/s eta 0:00:01\r\u001b[K     |█████████████▍                  | 430 kB 5.3 MB/s eta 0:00:01\r\u001b[K     |█████████████▊                  | 440 kB 5.3 MB/s eta 0:00:01\r\u001b[K     |██████████████                  | 450 kB 5.3 MB/s eta 0:00:01\r\u001b[K     |██████████████▍                 | 460 kB 5.3 MB/s eta 0:00:01\r\u001b[K     |██████████████▊                 | 471 kB 5.3 MB/s eta 0:00:01\r\u001b[K     |███████████████                 | 481 kB 5.3 MB/s eta 0:00:01\r\u001b[K     |███████████████▍                | 491 kB 5.3 MB/s eta 0:00:01\r\u001b[K     |███████████████▋                | 501 kB 5.3 MB/s eta 0:00:01\r\u001b[K     |████████████████                | 512 kB 5.3 MB/s eta 0:00:01\r\u001b[K     |████████████████▎               | 522 kB 5.3 MB/s eta 0:00:01\r\u001b[K     |████████████████▋               | 532 kB 5.3 MB/s eta 0:00:01\r\u001b[K     |█████████████████               | 542 kB 5.3 MB/s eta 0:00:01\r\u001b[K     |█████████████████▎              | 552 kB 5.3 MB/s eta 0:00:01\r\u001b[K     |█████████████████▋              | 563 kB 5.3 MB/s eta 0:00:01\r\u001b[K     |██████████████████              | 573 kB 5.3 MB/s eta 0:00:01\r\u001b[K     |██████████████████▏             | 583 kB 5.3 MB/s eta 0:00:01\r\u001b[K     |██████████████████▌             | 593 kB 5.3 MB/s eta 0:00:01\r\u001b[K     |██████████████████▉             | 604 kB 5.3 MB/s eta 0:00:01\r\u001b[K     |███████████████████▏            | 614 kB 5.3 MB/s eta 0:00:01\r\u001b[K     |███████████████████▌            | 624 kB 5.3 MB/s eta 0:00:01\r\u001b[K     |███████████████████▉            | 634 kB 5.3 MB/s eta 0:00:01\r\u001b[K     |████████████████████▏           | 645 kB 5.3 MB/s eta 0:00:01\r\u001b[K     |████████████████████▌           | 655 kB 5.3 MB/s eta 0:00:01\r\u001b[K     |████████████████████▊           | 665 kB 5.3 MB/s eta 0:00:01\r\u001b[K     |█████████████████████           | 675 kB 5.3 MB/s eta 0:00:01\r\u001b[K     |█████████████████████▍          | 686 kB 5.3 MB/s eta 0:00:01\r\u001b[K     |█████████████████████▊          | 696 kB 5.3 MB/s eta 0:00:01\r\u001b[K     |██████████████████████          | 706 kB 5.3 MB/s eta 0:00:01\r\u001b[K     |██████████████████████▍         | 716 kB 5.3 MB/s eta 0:00:01\r\u001b[K     |██████████████████████▊         | 727 kB 5.3 MB/s eta 0:00:01\r\u001b[K     |███████████████████████         | 737 kB 5.3 MB/s eta 0:00:01\r\u001b[K     |███████████████████████▎        | 747 kB 5.3 MB/s eta 0:00:01\r\u001b[K     |███████████████████████▋        | 757 kB 5.3 MB/s eta 0:00:01\r\u001b[K     |████████████████████████        | 768 kB 5.3 MB/s eta 0:00:01\r\u001b[K     |████████████████████████▎       | 778 kB 5.3 MB/s eta 0:00:01\r\u001b[K     |████████████████████████▋       | 788 kB 5.3 MB/s eta 0:00:01\r\u001b[K     |█████████████████████████       | 798 kB 5.3 MB/s eta 0:00:01\r\u001b[K     |█████████████████████████▎      | 808 kB 5.3 MB/s eta 0:00:01\r\u001b[K     |█████████████████████████▋      | 819 kB 5.3 MB/s eta 0:00:01\r\u001b[K     |█████████████████████████▉      | 829 kB 5.3 MB/s eta 0:00:01\r\u001b[K     |██████████████████████████▏     | 839 kB 5.3 MB/s eta 0:00:01\r\u001b[K     |██████████████████████████▌     | 849 kB 5.3 MB/s eta 0:00:01\r\u001b[K     |██████████████████████████▉     | 860 kB 5.3 MB/s eta 0:00:01\r\u001b[K     |███████████████████████████▏    | 870 kB 5.3 MB/s eta 0:00:01\r\u001b[K     |███████████████████████████▌    | 880 kB 5.3 MB/s eta 0:00:01\r\u001b[K     |███████████████████████████▉    | 890 kB 5.3 MB/s eta 0:00:01\r\u001b[K     |████████████████████████████▏   | 901 kB 5.3 MB/s eta 0:00:01\r\u001b[K     |████████████████████████████▍   | 911 kB 5.3 MB/s eta 0:00:01\r\u001b[K     |████████████████████████████▊   | 921 kB 5.3 MB/s eta 0:00:01\r\u001b[K     |█████████████████████████████   | 931 kB 5.3 MB/s eta 0:00:01\r\u001b[K     |█████████████████████████████▍  | 942 kB 5.3 MB/s eta 0:00:01\r\u001b[K     |█████████████████████████████▊  | 952 kB 5.3 MB/s eta 0:00:01\r\u001b[K     |██████████████████████████████  | 962 kB 5.3 MB/s eta 0:00:01\r\u001b[K     |██████████████████████████████▍ | 972 kB 5.3 MB/s eta 0:00:01\r\u001b[K     |██████████████████████████████▊ | 983 kB 5.3 MB/s eta 0:00:01\r\u001b[K     |███████████████████████████████ | 993 kB 5.3 MB/s eta 0:00:01\r\u001b[K     |███████████████████████████████▎| 1.0 MB 5.3 MB/s eta 0:00:01\r\u001b[K     |███████████████████████████████▋| 1.0 MB 5.3 MB/s eta 0:00:01\r\u001b[K     |████████████████████████████████| 1.0 MB 5.3 MB/s eta 0:00:01\r\u001b[K     |████████████████████████████████| 1.0 MB 5.3 MB/s \n",
            "\u001b[?25hRequirement already satisfied: typeguard>=2.7 in /usr/local/lib/python3.7/dist-packages (from tensorflow-addons==0.9.1) (2.7.1)\n",
            "Installing collected packages: tensorflow-addons\n",
            "Successfully installed tensorflow-addons-0.9.1\n"
          ]
        },
        {
          "output_type": "stream",
          "name": "stderr",
          "text": [
            "/usr/local/lib/python3.7/dist-packages/tensorflow_addons/utils/ensure_tf_install.py:68: UserWarning: Tensorflow Addons supports using Python ops for all Tensorflow versions above or equal to 2.1.0 and strictly below 2.3.0 (nightly versions are not supported). \n",
            " The versions of TensorFlow you are currently using is 2.8.0 and is not supported. \n",
            "Some things might work, some things might not.\n",
            "If you were to encounter a bug, do not file an issue.\n",
            "If you want to make sure you're using a tested and supported configuration, either change the TensorFlow version or the TensorFlow Addons's version. \n",
            "You can find the compatibility matrix in TensorFlow Addon's readme:\n",
            "https://github.com/tensorflow/addons\n",
            "  UserWarning,\n"
          ]
        }
      ]
    },
    {
      "cell_type": "code",
      "source": [
        "# Define Random Cutout operation function\n",
        "@tf.function\n",
        "def random_cut_out(images, labels):\n",
        "    return tfa.image.random_cutout(images, (10, 10), constant_values = 1), labels"
      ],
      "metadata": {
        "id": "SC07yR3aLoBz"
      },
      "execution_count": null,
      "outputs": []
    },
    {
      "cell_type": "code",
      "source": [
        "# Displaying how one image looks after performing the cutout operation\n",
        "temp = train_ds_simple.map(random_cut_out)\n",
        "images, _ = next(iter(temp.take(1)))\n",
        "image = images[0]\n",
        "plt.imshow(image.numpy().transpose(2,0,1)[0])"
      ],
      "metadata": {
        "colab": {
          "base_uri": "https://localhost:8080/",
          "height": 283
        },
        "id": "tkZWL0tpQWeZ",
        "outputId": "585aa514-2cc9-47d5-91bf-a812af42c27b"
      },
      "execution_count": null,
      "outputs": [
        {
          "output_type": "execute_result",
          "data": {
            "text/plain": [
              "<matplotlib.image.AxesImage at 0x7f3518315dd0>"
            ]
          },
          "metadata": {},
          "execution_count": 28
        },
        {
          "output_type": "display_data",
          "data": {
            "text/plain": [
              "<Figure size 432x288 with 1 Axes>"
            ],
            "image/png": "[encoded data removed]"
          },
          "metadata": {
            "needs_background": "light"
          }
        }
      ]
    },
    {
      "cell_type": "code",
      "source": [
        "# Create the new dataset using the random cutout function\n",
        "train_ds_cutout = (\n",
        "    train_ds_simple.shuffle(1024)\n",
        "    .map(random_cut_out, num_parallel_calls=AUTO)\n",
        ")"
      ],
      "metadata": {
        "id": "FyGBfcAQSlw8"
      },
      "execution_count": null,
      "outputs": []
    },
    {
      "cell_type": "code",
      "source": [
        "train_ds_cutout.cardinality().numpy()"
      ],
      "metadata": {
        "colab": {
          "base_uri": "https://localhost:8080/"
        },
        "outputId": "8f9a944e-5d0e-41f5-bff1-a6dc49871a8e",
        "id": "y4rJauD1Sp4_"
      },
      "execution_count": null,
      "outputs": [
        {
          "output_type": "execute_result",
          "data": {
            "text/plain": [
              "1875"
            ]
          },
          "metadata": {},
          "execution_count": 63
        }
      ]
    },
    {
      "cell_type": "markdown",
      "source": [
        "1875 images were created. "
      ],
      "metadata": {
        "id": "tAe3APfMSp5A"
      }
    },
    {
      "cell_type": "markdown",
      "source": [
        "#### Instantiating AlexNet Model and Saving Model"
      ],
      "metadata": {
        "id": "tTMMjQDPRoOy"
      }
    },
    {
      "cell_type": "code",
      "source": [
        "model2 = alexnet_model()"
      ],
      "metadata": {
        "id": "rr7paG7KTUH-"
      },
      "execution_count": null,
      "outputs": []
    },
    {
      "cell_type": "code",
      "source": [
        "model2.compile(optimizer = 'adam' , loss = 'categorical_crossentropy' , metrics=['accuracy'])"
      ],
      "metadata": {
        "id": "PBUbYc4lUUus"
      },
      "execution_count": null,
      "outputs": []
    },
    {
      "cell_type": "code",
      "source": [
        "history2 = model2.fit(train_ds_cutout, validation_data=test_ds, epochs=15)\n",
        "\n",
        "test_loss2, test_accuracy2 = model2.evaluate(test_ds)\n",
        "print(\"Test accuracy: {:.2f}%\".format(test_accuracy2 * 100))"
      ],
      "metadata": {
        "colab": {
          "base_uri": "https://localhost:8080/"
        },
        "id": "-LPcRSfyYRty",
        "outputId": "dfa19a55-cacf-4100-e2e1-3bcec496f3b1"
      },
      "execution_count": null,
      "outputs": [
        {
          "output_type": "stream",
          "name": "stdout",
          "text": [
            "Epoch 1/15\n",
            "1875/1875 [==============================] - 121s 57ms/step - loss: 0.6907 - accuracy: 0.7890 - val_loss: 0.3922 - val_accuracy: 0.8678\n",
            "Epoch 2/15\n",
            "1875/1875 [==============================] - 110s 58ms/step - loss: 0.4606 - accuracy: 0.8504 - val_loss: 0.3604 - val_accuracy: 0.8760\n",
            "Epoch 3/15\n",
            "1875/1875 [==============================] - 109s 58ms/step - loss: 0.3863 - accuracy: 0.8691 - val_loss: 0.3116 - val_accuracy: 0.8912\n",
            "Epoch 4/15\n",
            "1875/1875 [==============================] - 110s 58ms/step - loss: 0.3406 - accuracy: 0.8830 - val_loss: 0.3051 - val_accuracy: 0.8934\n",
            "Epoch 5/15\n",
            "1875/1875 [==============================] - 109s 58ms/step - loss: 0.3082 - accuracy: 0.8931 - val_loss: 0.2694 - val_accuracy: 0.9001\n",
            "Epoch 6/15\n",
            "1875/1875 [==============================] - 109s 58ms/step - loss: 0.2757 - accuracy: 0.9032 - val_loss: 0.2625 - val_accuracy: 0.9079\n",
            "Epoch 7/15\n",
            "1875/1875 [==============================] - 109s 57ms/step - loss: 0.2530 - accuracy: 0.9123 - val_loss: 0.2536 - val_accuracy: 0.9126\n",
            "Epoch 8/15\n",
            "1875/1875 [==============================] - 108s 57ms/step - loss: 0.2281 - accuracy: 0.9195 - val_loss: 0.2563 - val_accuracy: 0.9055\n",
            "Epoch 9/15\n",
            "1875/1875 [==============================] - 108s 57ms/step - loss: 0.2120 - accuracy: 0.9245 - val_loss: 0.2307 - val_accuracy: 0.9172\n",
            "Epoch 10/15\n",
            "1875/1875 [==============================] - 109s 58ms/step - loss: 0.1927 - accuracy: 0.9305 - val_loss: 0.2314 - val_accuracy: 0.9150\n",
            "Epoch 11/15\n",
            "1875/1875 [==============================] - 110s 58ms/step - loss: 0.1782 - accuracy: 0.9365 - val_loss: 0.2285 - val_accuracy: 0.9215\n",
            "Epoch 12/15\n",
            "1875/1875 [==============================] - 109s 58ms/step - loss: 0.1651 - accuracy: 0.9409 - val_loss: 0.3068 - val_accuracy: 0.9004\n",
            "Epoch 13/15\n",
            "1875/1875 [==============================] - 109s 58ms/step - loss: 0.1514 - accuracy: 0.9447 - val_loss: 0.2219 - val_accuracy: 0.9250\n",
            "Epoch 14/15\n",
            "1875/1875 [==============================] - 110s 58ms/step - loss: 0.1384 - accuracy: 0.9502 - val_loss: 0.2495 - val_accuracy: 0.9194\n",
            "Epoch 15/15\n",
            "1875/1875 [==============================] - 110s 58ms/step - loss: 0.1290 - accuracy: 0.9538 - val_loss: 0.2475 - val_accuracy: 0.9233\n",
            "313/313 [==============================] - 4s 14ms/step - loss: 0.2475 - accuracy: 0.9233\n",
            "Test accuracy: 92.33%\n"
          ]
        }
      ]
    },
    {
      "cell_type": "code",
      "source": [
        "model2.save_weights(\"/content/drive/MyDrive/AkshatBhat-CodingTask/alexnet_model_weights_cutout.h5\")"
      ],
      "metadata": {
        "id": "JfrwhDv_IwRv"
      },
      "execution_count": null,
      "outputs": []
    },
    {
      "cell_type": "code",
      "source": [
        "model2.save(\"/content/drive/MyDrive/AkshatBhat-CodingTask/alexnet_model_cutout.h5\")"
      ],
      "metadata": {
        "id": "B6358p85IwRw"
      },
      "execution_count": null,
      "outputs": []
    },
    {
      "cell_type": "markdown",
      "source": [
        "#### Plotting the Training and Testing Loss and Accuracy Curves"
      ],
      "metadata": {
        "id": "svAU79eoSUBn"
      }
    },
    {
      "cell_type": "code",
      "source": [
        "plt.plot(history2.history['loss'])\n",
        "plt.plot(history2.history['val_loss'])\n",
        "plt.title('model loss')\n",
        "plt.ylabel('loss')\n",
        "plt.xlabel('epoch')\n",
        "plt.legend(['train', 'test'], loc='upper left')\n",
        "plt.show()"
      ],
      "metadata": {
        "colab": {
          "base_uri": "https://localhost:8080/",
          "height": 295
        },
        "outputId": "d0cebe30-d83f-4574-a420-ce3556c474b5",
        "id": "ov6NLe3ZIwRw"
      },
      "execution_count": null,
      "outputs": [
        {
          "output_type": "display_data",
          "data": {
            "text/plain": [
              "<Figure size 432x288 with 1 Axes>"
            ],
            "image/png": "[encoded data removed]"
          },
          "metadata": {
            "needs_background": "light"
          }
        }
      ]
    },
    {
      "cell_type": "code",
      "source": [
        "plt.plot(history2.history['accuracy'])\n",
        "plt.plot(history2.history['val_accuracy'])\n",
        "plt.title('model accuracy')\n",
        "plt.ylabel('accuracy')\n",
        "plt.xlabel('epoch')\n",
        "plt.legend(['train', 'test'], loc='upper left')\n",
        "plt.show()"
      ],
      "metadata": {
        "colab": {
          "base_uri": "https://localhost:8080/",
          "height": 295
        },
        "outputId": "ec3b1a38-83c7-4550-be86-14870704f953",
        "id": "h8wTYegSIwRx"
      },
      "execution_count": null,
      "outputs": [
        {
          "output_type": "display_data",
          "data": {
            "text/plain": [
              "<Figure size 432x288 with 1 Axes>"
            ],
            "image/png": "[encoded data removed]"
          },
          "metadata": {
            "needs_background": "light"
          }
        }
      ]
    },
    {
      "cell_type": "markdown",
      "source": [
        "#### Examining the Predictions of the Model"
      ],
      "metadata": {
        "id": "d6P0ua_SSdZf"
      }
    },
    {
      "cell_type": "code",
      "source": [
        "predictions2 = model2.predict(test_ds)"
      ],
      "metadata": {
        "id": "JKLV-jbRHCsV"
      },
      "execution_count": null,
      "outputs": []
    },
    {
      "cell_type": "code",
      "source": [
        "predictions2[0]"
      ],
      "metadata": {
        "colab": {
          "base_uri": "https://localhost:8080/"
        },
        "outputId": "1529b421-c731-4e23-90d9-a1a830258c4b",
        "id": "yN5BVM2KHCsp"
      },
      "execution_count": null,
      "outputs": [
        {
          "output_type": "execute_result",
          "data": {
            "text/plain": [
              "array([2.05468150e-05, 2.35221323e-05, 5.66145900e-06, 1.00886391e-05,\n",
              "       7.64771994e-06, 2.99582862e-05, 1.19781325e-05, 7.91537150e-06,\n",
              "       1.13091101e-05, 9.99871373e-01], dtype=float32)"
            ]
          },
          "metadata": {},
          "execution_count": 34
        }
      ]
    },
    {
      "cell_type": "code",
      "source": [
        "test_labels[0]"
      ],
      "metadata": {
        "colab": {
          "base_uri": "https://localhost:8080/"
        },
        "outputId": "de9f3d7b-fa0c-456f-a273-a823844edbb0",
        "id": "82KRce3yHCsp"
      },
      "execution_count": null,
      "outputs": [
        {
          "output_type": "execute_result",
          "data": {
            "text/plain": [
              "9"
            ]
          },
          "metadata": {},
          "execution_count": 35
        }
      ]
    },
    {
      "cell_type": "code",
      "source": [
        "# Show the 0th image:\n",
        "index = 0\n",
        "utils.plot_image_and_prob(predictions2, test_labels, test_images, i=index, big=True, class_names=class_names)"
      ],
      "metadata": {
        "colab": {
          "base_uri": "https://localhost:8080/",
          "height": 545
        },
        "outputId": "d1c9aefc-d4e9-4308-99b8-9490879abc96",
        "id": "fNPGO6v3HCsq"
      },
      "execution_count": null,
      "outputs": [
        {
          "output_type": "display_data",
          "data": {
            "text/plain": [
              "<Figure size 432x288 with 1 Axes>"
            ],
            "image/png": "[encoded data removed]"
          },
          "metadata": {}
        },
        {
          "output_type": "display_data",
          "data": {
            "text/plain": [
              "<Figure size 432x288 with 1 Axes>"
            ],
            "image/png": "[encoded data removed]"
          },
          "metadata": {
            "needs_background": "light"
          }
        }
      ]
    },
    {
      "cell_type": "code",
      "source": [
        "# As always - let's convert the probabilities array into classes\n",
        "predicted_classes2 = utils.label_with_highest_prob(predictions2)\n",
        "\n",
        "# Plot the matrix\n",
        "utils.plot_confusion_matrix(y_pred=predicted_classes2, y_true=test_labels, classes=np.array(class_names))"
      ],
      "metadata": {
        "colab": {
          "base_uri": "https://localhost:8080/",
          "height": 333
        },
        "outputId": "c4a949a3-3864-4894-b065-8ce23d96e38b",
        "id": "KJSFApciHCsq"
      },
      "execution_count": null,
      "outputs": [
        {
          "output_type": "stream",
          "name": "stdout",
          "text": [
            "Confusion matrix\n"
          ]
        },
        {
          "output_type": "execute_result",
          "data": {
            "text/plain": [
              "<matplotlib.axes._subplots.AxesSubplot at 0x7f351834c750>"
            ]
          },
          "metadata": {},
          "execution_count": 38
        },
        {
          "output_type": "display_data",
          "data": {
            "text/plain": [
              "<Figure size 432x288 with 2 Axes>"
            ],
            "image/png": "[encoded data removed]"
          },
          "metadata": {
            "needs_background": "light"
          }
        }
      ]
    },
    {
      "cell_type": "code",
      "source": [
        "from sklearn.metrics import classification_report,roc_curve,confusion_matrix\n",
        "print('Classification Report\\n',classification_report(test_labels, predicted_classes2))"
      ],
      "metadata": {
        "colab": {
          "base_uri": "https://localhost:8080/"
        },
        "outputId": "91d1f71d-c795-49bc-c9d2-38e38c9d46ee",
        "id": "79i6a5H7HCsq"
      },
      "execution_count": null,
      "outputs": [
        {
          "output_type": "stream",
          "name": "stdout",
          "text": [
            "Classification Report\n",
            "               precision    recall  f1-score   support\n",
            "\n",
            "           0       0.81      0.93      0.87      1000\n",
            "           1       0.98      0.99      0.99      1000\n",
            "           2       0.88      0.88      0.88      1000\n",
            "           3       0.94      0.92      0.93      1000\n",
            "           4       0.87      0.90      0.89      1000\n",
            "           5       0.99      0.98      0.99      1000\n",
            "           6       0.84      0.70      0.76      1000\n",
            "           7       0.98      0.95      0.96      1000\n",
            "           8       0.99      0.99      0.99      1000\n",
            "           9       0.95      0.99      0.97      1000\n",
            "\n",
            "    accuracy                           0.92     10000\n",
            "   macro avg       0.92      0.92      0.92     10000\n",
            "weighted avg       0.92      0.92      0.92     10000\n",
            "\n"
          ]
        }
      ]
    },
    {
      "cell_type": "markdown",
      "source": [
        "### Combining Both Cutmix and Cutout Augmented Images"
      ],
      "metadata": {
        "id": "2MTJuMQvITS7"
      }
    },
    {
      "cell_type": "code",
      "source": [
        "# Concatenate both the training datasets - i.e. cutmix and cutout\n",
        "train_ds_mixed = train_ds_cmu.concatenate(train_ds_cutout)\n",
        "\n",
        "# Create the new dataset after shuffling\n",
        "train_ds_combined = (\n",
        "    train_ds_mixed.shuffle(1024)\n",
        ")"
      ],
      "metadata": {
        "id": "735ax5k4lmSm"
      },
      "execution_count": null,
      "outputs": []
    },
    {
      "cell_type": "code",
      "source": [
        "# Preview 9 samples from the dataset\n",
        "image_batch, label_batch = next(iter(train_ds_mixed))\n",
        "plt.figure(figsize=(10, 10))\n",
        "for i in range(9):\n",
        "    ax = plt.subplot(3, 3, i + 1)\n",
        "    plt.title(class_names[np.argmax(label_batch[i])])\n",
        "    plt.imshow(image_batch[i].numpy().transpose(2,0,1)[0])\n",
        "    plt.axis(\"off\")"
      ],
      "metadata": {
        "colab": {
          "base_uri": "https://localhost:8080/",
          "height": 591
        },
        "id": "wH44oERClyFH",
        "outputId": "c31f1ca5-5de2-4909-a753-24d37d1560c8"
      },
      "execution_count": null,
      "outputs": [
        {
          "output_type": "display_data",
          "data": {
            "text/plain": [
              "<Figure size 720x720 with 9 Axes>"
            ],
            "image/png": "[encoded data removed]"
          },
          "metadata": {
            "needs_background": "light"
          }
        }
      ]
    },
    {
      "cell_type": "code",
      "source": [
        "train_ds_combined.cardinality().numpy()"
      ],
      "metadata": {
        "colab": {
          "base_uri": "https://localhost:8080/"
        },
        "outputId": "3e00002c-d97f-40e5-d82d-42b648478ca2",
        "id": "Q8uC_Tt3TTjm"
      },
      "execution_count": null,
      "outputs": [
        {
          "output_type": "execute_result",
          "data": {
            "text/plain": [
              "3750"
            ]
          },
          "metadata": {},
          "execution_count": 64
        }
      ]
    },
    {
      "cell_type": "markdown",
      "source": [
        "3750 images were created. "
      ],
      "metadata": {
        "id": "COmrShWJTTj2"
      }
    },
    {
      "cell_type": "markdown",
      "source": [
        "#### Instantiating AlexNet Model and Saving Model"
      ],
      "metadata": {
        "id": "CZo7LtM-TTj3"
      }
    },
    {
      "cell_type": "code",
      "source": [
        "model3 = alexnet_model()"
      ],
      "metadata": {
        "id": "TioJRArfKLb6"
      },
      "execution_count": null,
      "outputs": []
    },
    {
      "cell_type": "code",
      "source": [
        "model3.compile(optimizer = 'adam' , loss = 'categorical_crossentropy' , metrics=['accuracy'])"
      ],
      "metadata": {
        "id": "QkZUUbkkKLcJ"
      },
      "execution_count": null,
      "outputs": []
    },
    {
      "cell_type": "code",
      "source": [
        "history3 = model3.fit(train_ds_combined, validation_data=test_ds, epochs=15)\n",
        "\n",
        "test_loss3, test_accuracy3 = model3.evaluate(test_ds)\n",
        "print(\"Test accuracy: {:.2f}%\".format(test_accuracy2 * 100))"
      ],
      "metadata": {
        "colab": {
          "base_uri": "https://localhost:8080/"
        },
        "outputId": "114a8fb9-cc3b-481d-f383-d1ffe6c3859c",
        "id": "vktn4ppqKLcJ"
      },
      "execution_count": null,
      "outputs": [
        {
          "output_type": "stream",
          "name": "stdout",
          "text": [
            "Epoch 1/15\n",
            "3750/3750 [==============================] - 228s 58ms/step - loss: 0.8457 - accuracy: 0.7669 - val_loss: 0.4151 - val_accuracy: 0.8566\n",
            "Epoch 2/15\n",
            "3750/3750 [==============================] - 223s 58ms/step - loss: 0.6634 - accuracy: 0.8224 - val_loss: 0.3060 - val_accuracy: 0.8929\n",
            "Epoch 3/15\n",
            "3750/3750 [==============================] - 234s 59ms/step - loss: 0.5875 - accuracy: 0.8429 - val_loss: 0.2684 - val_accuracy: 0.9071\n",
            "Epoch 4/15\n",
            "3750/3750 [==============================] - 222s 58ms/step - loss: 0.5410 - accuracy: 0.8585 - val_loss: 0.2576 - val_accuracy: 0.9085\n",
            "Epoch 5/15\n",
            "3750/3750 [==============================] - 230s 58ms/step - loss: 0.5063 - accuracy: 0.8669 - val_loss: 0.2532 - val_accuracy: 0.9093\n",
            "Epoch 6/15\n",
            "3750/3750 [==============================] - 221s 57ms/step - loss: 0.4773 - accuracy: 0.8769 - val_loss: 0.2138 - val_accuracy: 0.9252\n",
            "Epoch 7/15\n",
            "3750/3750 [==============================] - 223s 57ms/step - loss: 0.4503 - accuracy: 0.8846 - val_loss: 0.2237 - val_accuracy: 0.9244\n",
            "Epoch 8/15\n",
            "3750/3750 [==============================] - 225s 58ms/step - loss: 0.4306 - accuracy: 0.8922 - val_loss: 0.2384 - val_accuracy: 0.9195\n",
            "Epoch 9/15\n",
            "3750/3750 [==============================] - 219s 57ms/step - loss: 0.4145 - accuracy: 0.8982 - val_loss: 0.2210 - val_accuracy: 0.9270\n",
            "Epoch 10/15\n",
            "3750/3750 [==============================] - 222s 57ms/step - loss: 0.3975 - accuracy: 0.9033 - val_loss: 0.2235 - val_accuracy: 0.9291\n",
            "Epoch 11/15\n",
            "3750/3750 [==============================] - 223s 57ms/step - loss: 0.3857 - accuracy: 0.9072 - val_loss: 0.2441 - val_accuracy: 0.9250\n",
            "Epoch 12/15\n",
            "3750/3750 [==============================] - 217s 56ms/step - loss: 0.3746 - accuracy: 0.9122 - val_loss: 0.2593 - val_accuracy: 0.9232\n",
            "Epoch 13/15\n",
            "3750/3750 [==============================] - 218s 56ms/step - loss: 0.3669 - accuracy: 0.9144 - val_loss: 0.2221 - val_accuracy: 0.9322\n",
            "Epoch 14/15\n",
            "3750/3750 [==============================] - 218s 56ms/step - loss: 0.3568 - accuracy: 0.9178 - val_loss: 0.2537 - val_accuracy: 0.9266\n",
            "Epoch 15/15\n",
            "3750/3750 [==============================] - 218s 56ms/step - loss: 0.3519 - accuracy: 0.9181 - val_loss: 0.2397 - val_accuracy: 0.9284\n",
            "313/313 [==============================] - 4s 14ms/step - loss: 0.2397 - accuracy: 0.9284\n",
            "Test accuracy: 92.33%\n"
          ]
        }
      ]
    },
    {
      "cell_type": "code",
      "source": [
        "model3.save_weights(\"/content/drive/MyDrive/AkshatBhat-CodingTask/alexnet_model_weights_combined.h5\")"
      ],
      "metadata": {
        "id": "43n7Jix3KLcJ"
      },
      "execution_count": null,
      "outputs": []
    },
    {
      "cell_type": "code",
      "source": [
        "model3.save(\"/content/drive/MyDrive/AkshatBhat-CodingTask/alexnet_model_combined.h5\")"
      ],
      "metadata": {
        "id": "MdZGTC1CKLcK"
      },
      "execution_count": null,
      "outputs": []
    },
    {
      "cell_type": "markdown",
      "source": [
        "#### Plotting the Training and Testing Loss and Accuracy Curves"
      ],
      "metadata": {
        "id": "isI49RjWTnIO"
      }
    },
    {
      "cell_type": "code",
      "source": [
        "plt.plot(history3.history['loss'])\n",
        "plt.plot(history3.history['val_loss'])\n",
        "plt.title('model loss')\n",
        "plt.ylabel('loss')\n",
        "plt.xlabel('epoch')\n",
        "plt.legend(['train', 'test'], loc='upper left')\n",
        "plt.show()"
      ],
      "metadata": {
        "colab": {
          "base_uri": "https://localhost:8080/",
          "height": 295
        },
        "outputId": "0207b9b6-7a01-4620-c4a5-7d462ad628a9",
        "id": "3Q0aUFqlKLcK"
      },
      "execution_count": null,
      "outputs": [
        {
          "output_type": "display_data",
          "data": {
            "text/plain": [
              "<Figure size 432x288 with 1 Axes>"
            ],
            "image/png": "[encoded data removed]"
          },
          "metadata": {
            "needs_background": "light"
          }
        }
      ]
    },
    {
      "cell_type": "code",
      "source": [
        "plt.plot(history3.history['accuracy'])\n",
        "plt.plot(history3.history['val_accuracy'])\n",
        "plt.title('model accuracy')\n",
        "plt.ylabel('accuracy')\n",
        "plt.xlabel('epoch')\n",
        "plt.legend(['train', 'test'], loc='upper left')\n",
        "plt.show()"
      ],
      "metadata": {
        "colab": {
          "base_uri": "https://localhost:8080/",
          "height": 295
        },
        "outputId": "fa5ce8b5-0733-4d12-e3f7-941de758f03d",
        "id": "cJwm_hqhKLcK"
      },
      "execution_count": null,
      "outputs": [
        {
          "output_type": "display_data",
          "data": {
            "text/plain": [
              "<Figure size 432x288 with 1 Axes>"
            ],
            "image/png": "[encoded data removed]"
          },
          "metadata": {
            "needs_background": "light"
          }
        }
      ]
    },
    {
      "cell_type": "markdown",
      "source": [
        "#### Examining the Predictions of the Model"
      ],
      "metadata": {
        "id": "pRUNoC_BThqL"
      }
    },
    {
      "cell_type": "code",
      "source": [
        "predictions3 = model3.predict(test_ds)"
      ],
      "metadata": {
        "id": "SFINUb7EKLcL"
      },
      "execution_count": null,
      "outputs": []
    },
    {
      "cell_type": "code",
      "source": [
        "predictions3[0]"
      ],
      "metadata": {
        "colab": {
          "base_uri": "https://localhost:8080/"
        },
        "outputId": "2147c26d-2981-4e3c-c798-b707e7203b1b",
        "id": "hujIlbpuKLcL"
      },
      "execution_count": null,
      "outputs": [
        {
          "output_type": "execute_result",
          "data": {
            "text/plain": [
              "array([4.6220764e-05, 5.6933899e-05, 6.3935108e-06, 5.4565138e-05,\n",
              "       1.0905761e-04, 9.8027021e-04, 2.5577434e-05, 4.4633434e-04,\n",
              "       3.4672103e-04, 9.9792790e-01], dtype=float32)"
            ]
          },
          "metadata": {},
          "execution_count": 66
        }
      ]
    },
    {
      "cell_type": "code",
      "source": [
        "test_labels[0]"
      ],
      "metadata": {
        "colab": {
          "base_uri": "https://localhost:8080/"
        },
        "outputId": "55253178-55a0-47e9-9250-804d5550b061",
        "id": "YjZRd5dUKLcL"
      },
      "execution_count": null,
      "outputs": [
        {
          "output_type": "execute_result",
          "data": {
            "text/plain": [
              "9"
            ]
          },
          "metadata": {},
          "execution_count": 67
        }
      ]
    },
    {
      "cell_type": "code",
      "source": [
        "# Show the 0th image:\n",
        "index = 0\n",
        "utils.plot_image_and_prob(predictions3, test_labels, test_images, i=index, big=True, class_names=class_names)"
      ],
      "metadata": {
        "colab": {
          "base_uri": "https://localhost:8080/",
          "height": 545
        },
        "outputId": "86fcac9a-3d87-422e-fbd6-f6ae00afe46a",
        "id": "OiaYYGqqKLcM"
      },
      "execution_count": null,
      "outputs": [
        {
          "output_type": "display_data",
          "data": {
            "text/plain": [
              "<Figure size 432x288 with 1 Axes>"
            ],
            "image/png": "[encoded data removed]"
          },
          "metadata": {}
        },
        {
          "output_type": "display_data",
          "data": {
            "text/plain": [
              "<Figure size 432x288 with 1 Axes>"
            ],
            "image/png": "[encoded data removed]"
          },
          "metadata": {
            "needs_background": "light"
          }
        }
      ]
    },
    {
      "cell_type": "code",
      "source": [
        "# As always - let's convert the probabilities array into classes\n",
        "predicted_classes3 = utils.label_with_highest_prob(predictions3)\n",
        "\n",
        "# Plot the matrix\n",
        "utils.plot_confusion_matrix(y_pred=predicted_classes3, y_true=test_labels, classes=np.array(class_names))"
      ],
      "metadata": {
        "colab": {
          "base_uri": "https://localhost:8080/",
          "height": 333
        },
        "outputId": "53b1291a-e842-4d54-ab1c-e9fab3f1b270",
        "id": "VT8AEsJ9KLcM"
      },
      "execution_count": null,
      "outputs": [
        {
          "output_type": "stream",
          "name": "stdout",
          "text": [
            "Confusion matrix\n"
          ]
        },
        {
          "output_type": "execute_result",
          "data": {
            "text/plain": [
              "<matplotlib.axes._subplots.AxesSubplot at 0x7f3517a4ca50>"
            ]
          },
          "metadata": {},
          "execution_count": 69
        },
        {
          "output_type": "display_data",
          "data": {
            "text/plain": [
              "<Figure size 432x288 with 2 Axes>"
            ],
            "image/png": "[encoded data removed]"
          },
          "metadata": {
            "needs_background": "light"
          }
        }
      ]
    },
    {
      "cell_type": "code",
      "source": [
        "from sklearn.metrics import classification_report,roc_curve,confusion_matrix\n",
        "print('Classification Report\\n',classification_report(test_labels, predicted_classes3))"
      ],
      "metadata": {
        "colab": {
          "base_uri": "https://localhost:8080/"
        },
        "outputId": "05d495bd-3e60-4237-a91f-d6e46b44a29f",
        "id": "JUt7TozTKLcM"
      },
      "execution_count": null,
      "outputs": [
        {
          "output_type": "stream",
          "name": "stdout",
          "text": [
            "Classification Report\n",
            "               precision    recall  f1-score   support\n",
            "\n",
            "           0       0.85      0.90      0.88      1000\n",
            "           1       0.99      0.99      0.99      1000\n",
            "           2       0.86      0.90      0.88      1000\n",
            "           3       0.96      0.91      0.94      1000\n",
            "           4       0.88      0.89      0.88      1000\n",
            "           5       0.99      0.99      0.99      1000\n",
            "           6       0.81      0.76      0.78      1000\n",
            "           7       0.97      0.98      0.97      1000\n",
            "           8       0.99      0.99      0.99      1000\n",
            "           9       0.98      0.97      0.98      1000\n",
            "\n",
            "    accuracy                           0.93     10000\n",
            "   macro avg       0.93      0.93      0.93     10000\n",
            "weighted avg       0.93      0.93      0.93     10000\n",
            "\n"
          ]
        }
      ]
    },
    {
      "cell_type": "markdown",
      "source": [
        "### Conclusion\n",
        "\n"
      ],
      "metadata": {
        "id": "CWA28MKeTo7x"
      }
    },
    {
      "cell_type": "markdown",
      "source": [
        "1.   In this coding task, Fashion MNIST Dataset was used in which two image augmentation techniques namely, cutmix and cutout operations were performed before using the AlexNet Model.\n",
        "2.   When the dataset was augmented using cutmix operation, an average accuracy of 90.84% and F-1 score of 91% was obtained as observed from the classification report and the confusion matrix. It is observed that the testing loss was always less than the training loss.\n",
        "3.   When the dataset was augmented using cutout operation, an average accuracy of 92.33% and F-1 score of 92% was obtained as observed from the classification report and the confusion matrix. It is observed that after the sixth epoch, the training loss becomes lesser than the testing loss, indicating that the model might be overfitting.\n",
        "4. When the dataset was augmented using both cutmix and cutout operations, an average accuracy of 92.33% and F-1 score of 93% was obtained as observed from the classification report and the confusion matrix. It is observed that gradually till the fifteenth epoch, the testing and training loss decrease to converge.\n",
        "5. It is observed that for the Shirt class, all the models did not perform as well as they did for the other classes."
      ],
      "metadata": {
        "id": "37NXg5ssbvL8"
      }
    }
  ]
}